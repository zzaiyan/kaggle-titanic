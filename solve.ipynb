{
 "cells": [
  {
   "cell_type": "code",
   "execution_count": 26,
   "metadata": {
    "ExecuteTime": {
     "end_time": "2023-07-20T13:26:41.583850800Z",
     "start_time": "2023-07-20T13:26:41.530841100Z"
    }
   },
   "outputs": [],
   "source": [
    "import pandas as pd\n",
    "import numpy as np\n",
    "import sklearn\n",
    "import torch\n",
    "from sklearn.preprocessing import StandardScaler"
   ]
  },
  {
   "cell_type": "code",
   "execution_count": 59,
   "metadata": {
    "ExecuteTime": {
     "end_time": "2023-07-20T14:05:31.852310200Z",
     "start_time": "2023-07-20T14:05:31.803199700Z"
    }
   },
   "outputs": [
    {
     "data": {
      "text/plain": "     PassengerId        Age  SibSp  Parch     Fare  Sex_female  Sex_male  \\\n0              1  22.000000      1      0   7.2500           0         1   \n1              2  38.000000      1      0  71.2833           1         0   \n2              3  26.000000      0      0   7.9250           1         0   \n3              4  35.000000      1      0  53.1000           1         0   \n4              5  35.000000      0      0   8.0500           0         1   \n..           ...        ...    ...    ...      ...         ...       ...   \n886          887  27.000000      0      0  13.0000           0         1   \n887          888  19.000000      0      0  30.0000           1         0   \n888          889  15.666667      1      2  23.4500           1         0   \n889          890  26.000000      0      0  30.0000           0         1   \n890          891  32.000000      0      0   7.7500           0         1   \n\n     Pclass_1  Pclass_2  Pclass_3  Embarked_C  Embarked_Q  Embarked_S  \n0           0         0         1           0           0           1  \n1           1         0         0           1           0           0  \n2           0         0         1           0           0           1  \n3           1         0         0           0           0           1  \n4           0         0         1           0           0           1  \n..        ...       ...       ...         ...         ...         ...  \n886         0         1         0           0           0           1  \n887         1         0         0           0           0           1  \n888         0         0         1           0           0           1  \n889         1         0         0           1           0           0  \n890         0         0         1           0           1           0  \n\n[891 rows x 13 columns]",
      "text/html": "<div>\n<style scoped>\n    .dataframe tbody tr th:only-of-type {\n        vertical-align: middle;\n    }\n\n    .dataframe tbody tr th {\n        vertical-align: top;\n    }\n\n    .dataframe thead th {\n        text-align: right;\n    }\n</style>\n<table border=\"1\" class=\"dataframe\">\n  <thead>\n    <tr style=\"text-align: right;\">\n      <th></th>\n      <th>PassengerId</th>\n      <th>Age</th>\n      <th>SibSp</th>\n      <th>Parch</th>\n      <th>Fare</th>\n      <th>Sex_female</th>\n      <th>Sex_male</th>\n      <th>Pclass_1</th>\n      <th>Pclass_2</th>\n      <th>Pclass_3</th>\n      <th>Embarked_C</th>\n      <th>Embarked_Q</th>\n      <th>Embarked_S</th>\n    </tr>\n  </thead>\n  <tbody>\n    <tr>\n      <th>0</th>\n      <td>1</td>\n      <td>22.000000</td>\n      <td>1</td>\n      <td>0</td>\n      <td>7.2500</td>\n      <td>0</td>\n      <td>1</td>\n      <td>0</td>\n      <td>0</td>\n      <td>1</td>\n      <td>0</td>\n      <td>0</td>\n      <td>1</td>\n    </tr>\n    <tr>\n      <th>1</th>\n      <td>2</td>\n      <td>38.000000</td>\n      <td>1</td>\n      <td>0</td>\n      <td>71.2833</td>\n      <td>1</td>\n      <td>0</td>\n      <td>1</td>\n      <td>0</td>\n      <td>0</td>\n      <td>1</td>\n      <td>0</td>\n      <td>0</td>\n    </tr>\n    <tr>\n      <th>2</th>\n      <td>3</td>\n      <td>26.000000</td>\n      <td>0</td>\n      <td>0</td>\n      <td>7.9250</td>\n      <td>1</td>\n      <td>0</td>\n      <td>0</td>\n      <td>0</td>\n      <td>1</td>\n      <td>0</td>\n      <td>0</td>\n      <td>1</td>\n    </tr>\n    <tr>\n      <th>3</th>\n      <td>4</td>\n      <td>35.000000</td>\n      <td>1</td>\n      <td>0</td>\n      <td>53.1000</td>\n      <td>1</td>\n      <td>0</td>\n      <td>1</td>\n      <td>0</td>\n      <td>0</td>\n      <td>0</td>\n      <td>0</td>\n      <td>1</td>\n    </tr>\n    <tr>\n      <th>4</th>\n      <td>5</td>\n      <td>35.000000</td>\n      <td>0</td>\n      <td>0</td>\n      <td>8.0500</td>\n      <td>0</td>\n      <td>1</td>\n      <td>0</td>\n      <td>0</td>\n      <td>1</td>\n      <td>0</td>\n      <td>0</td>\n      <td>1</td>\n    </tr>\n    <tr>\n      <th>...</th>\n      <td>...</td>\n      <td>...</td>\n      <td>...</td>\n      <td>...</td>\n      <td>...</td>\n      <td>...</td>\n      <td>...</td>\n      <td>...</td>\n      <td>...</td>\n      <td>...</td>\n      <td>...</td>\n      <td>...</td>\n      <td>...</td>\n    </tr>\n    <tr>\n      <th>886</th>\n      <td>887</td>\n      <td>27.000000</td>\n      <td>0</td>\n      <td>0</td>\n      <td>13.0000</td>\n      <td>0</td>\n      <td>1</td>\n      <td>0</td>\n      <td>1</td>\n      <td>0</td>\n      <td>0</td>\n      <td>0</td>\n      <td>1</td>\n    </tr>\n    <tr>\n      <th>887</th>\n      <td>888</td>\n      <td>19.000000</td>\n      <td>0</td>\n      <td>0</td>\n      <td>30.0000</td>\n      <td>1</td>\n      <td>0</td>\n      <td>1</td>\n      <td>0</td>\n      <td>0</td>\n      <td>0</td>\n      <td>0</td>\n      <td>1</td>\n    </tr>\n    <tr>\n      <th>888</th>\n      <td>889</td>\n      <td>15.666667</td>\n      <td>1</td>\n      <td>2</td>\n      <td>23.4500</td>\n      <td>1</td>\n      <td>0</td>\n      <td>0</td>\n      <td>0</td>\n      <td>1</td>\n      <td>0</td>\n      <td>0</td>\n      <td>1</td>\n    </tr>\n    <tr>\n      <th>889</th>\n      <td>890</td>\n      <td>26.000000</td>\n      <td>0</td>\n      <td>0</td>\n      <td>30.0000</td>\n      <td>0</td>\n      <td>1</td>\n      <td>1</td>\n      <td>0</td>\n      <td>0</td>\n      <td>1</td>\n      <td>0</td>\n      <td>0</td>\n    </tr>\n    <tr>\n      <th>890</th>\n      <td>891</td>\n      <td>32.000000</td>\n      <td>0</td>\n      <td>0</td>\n      <td>7.7500</td>\n      <td>0</td>\n      <td>1</td>\n      <td>0</td>\n      <td>0</td>\n      <td>1</td>\n      <td>0</td>\n      <td>1</td>\n      <td>0</td>\n    </tr>\n  </tbody>\n</table>\n<p>891 rows × 13 columns</p>\n</div>"
     },
     "execution_count": 59,
     "metadata": {},
     "output_type": "execute_result"
    }
   ],
   "source": [
    "class TitanicData:\n",
    "    def __init__(self, train_path='./train.csv', test_path='./test.csv'):\n",
    "        self.df_train = pd.read_csv(train_path, encoding='utf8')\n",
    "        self.df_test = pd.read_csv(test_path, encoding='utf8')\n",
    "        self._init_train()\n",
    "        self._init_test()\n",
    "        self.all_x = pd.concat([self.df_train.iloc[:,:-2], self.df_test], axis=0)\n",
    "        # _scaler = StandardScaler()\n",
    "        # np_all_x = _scaler.fit_transform(self.all_x)\n",
    "        # self.all_x = pd.DataFrame(data=np_all_x, columns=self.all_x.columns)\n",
    "\n",
    "    def _init_train(self):\n",
    "        self.df_train.sort_values(by=['Ticket'], ascending=[True], inplace=True)\n",
    "        self.df_train.drop(columns=['Name', 'Ticket', 'Cabin'], inplace=True)\n",
    "        self.df_train['Age'].interpolate(inplace=True)\n",
    "        self.df_train['Fare'].interpolate(inplace=True)\n",
    "        self.df_train['Embarked'].fillna(value='S', inplace=True)\n",
    "        self.df_train.sort_values(by=['PassengerId'], ascending=[True], inplace=True)\n",
    "        self.df_train = pd.get_dummies(data=self.df_train, columns=['Sex', 'Pclass', 'Embarked', 'Survived'])\n",
    "\n",
    "    def _init_test(self):\n",
    "        self.df_test.sort_values(by=['Ticket'], ascending=[True], inplace=True)\n",
    "        self.df_test.drop(columns=['Name', 'Ticket', 'Cabin'], inplace=True)\n",
    "        self.df_test['Age'].interpolate(inplace=True)\n",
    "        self.df_test['Fare'].interpolate(inplace=True)\n",
    "        self.df_test['Embarked'].fillna(value='S', inplace=True)\n",
    "        self.df_test.sort_values(by=['PassengerId'], ascending=[True], inplace=True)\n",
    "        self.df_test = pd.get_dummies(data=self.df_test, columns=['Sex', 'Pclass', 'Embarked'])\n",
    "\n",
    "\n",
    "    def get_x(self, idx: int):\n",
    "        pass\n",
    "\n",
    "\n",
    "titanic = TitanicData()\n",
    "titanic.df_train.iloc[:,:-2]"
   ]
  },
  {
   "cell_type": "code",
   "execution_count": 60,
   "outputs": [
    {
     "name": "stdout",
     "output_type": "stream",
     "text": [
      "<class 'pandas.core.frame.DataFrame'>\n",
      "Int64Index: 1309 entries, 0 to 417\n",
      "Data columns (total 13 columns):\n",
      " #   Column       Non-Null Count  Dtype  \n",
      "---  ------       --------------  -----  \n",
      " 0   PassengerId  1309 non-null   int64  \n",
      " 1   Age          1309 non-null   float64\n",
      " 2   SibSp        1309 non-null   int64  \n",
      " 3   Parch        1309 non-null   int64  \n",
      " 4   Fare         1309 non-null   float64\n",
      " 5   Sex_female   1309 non-null   uint8  \n",
      " 6   Sex_male     1309 non-null   uint8  \n",
      " 7   Pclass_1     1309 non-null   uint8  \n",
      " 8   Pclass_2     1309 non-null   uint8  \n",
      " 9   Pclass_3     1309 non-null   uint8  \n",
      " 10  Embarked_C   1309 non-null   uint8  \n",
      " 11  Embarked_Q   1309 non-null   uint8  \n",
      " 12  Embarked_S   1309 non-null   uint8  \n",
      "dtypes: float64(2), int64(3), uint8(8)\n",
      "memory usage: 71.6 KB\n"
     ]
    }
   ],
   "source": [
    "all_x = titanic.all_x\n",
    "all_x.info()"
   ],
   "metadata": {
    "collapsed": false,
    "ExecuteTime": {
     "end_time": "2023-07-20T14:05:33.384083500Z",
     "start_time": "2023-07-20T14:05:33.359097800Z"
    }
   }
  },
  {
   "cell_type": "code",
   "execution_count": 54,
   "outputs": [],
   "source": [
    "scaler = StandardScaler()\n",
    "std_x = scaler.fit_transform(all_x.values[:,1:])"
   ],
   "metadata": {
    "collapsed": false,
    "ExecuteTime": {
     "end_time": "2023-07-20T13:43:01.896999700Z",
     "start_time": "2023-07-20T13:43:01.873619100Z"
    }
   }
  },
  {
   "cell_type": "code",
   "execution_count": 55,
   "outputs": [
    {
     "data": {
      "text/plain": "array([[-0.55621546,  0.48128777, -0.4449995 , ..., -0.50976981,\n        -0.32204029,  0.65501092],\n       [ 0.60814467,  0.48128777, -0.4449995 , ...,  1.96166973,\n        -0.32204029, -1.52669211],\n       [-0.26512542, -0.47908676, -0.4449995 , ..., -0.50976981,\n        -0.32204029,  0.65501092],\n       ...,\n       [ 0.64453093, -0.47908676, -0.4449995 , ..., -0.50976981,\n        -0.32204029,  0.65501092],\n       [ 0.60814467, -0.47908676, -0.4449995 , ..., -0.50976981,\n        -0.32204029,  0.65501092],\n       [-0.24433328,  0.48128777,  0.71076309, ...,  1.96166973,\n        -0.32204029, -1.52669211]])"
     },
     "execution_count": 55,
     "metadata": {},
     "output_type": "execute_result"
    }
   ],
   "source": [
    "std_x"
   ],
   "metadata": {
    "collapsed": false,
    "ExecuteTime": {
     "end_time": "2023-07-20T13:43:02.102979200Z",
     "start_time": "2023-07-20T13:43:02.085964800Z"
    }
   }
  },
  {
   "cell_type": "code",
   "execution_count": 56,
   "outputs": [
    {
     "data": {
      "text/plain": "       PassengerId         Age       SibSp       Parch        Fare  \\\ncount   891.000000  891.000000  891.000000  891.000000  891.000000   \nmean    446.000000   29.544433    0.523008    0.381594   32.204208   \nstd     257.353842   13.869483    1.102743    0.806057   49.693429   \nmin       1.000000    0.420000    0.000000    0.000000    0.000000   \n25%     223.500000   20.750000    0.000000    0.000000    7.910400   \n50%     446.000000   28.000000    0.000000    0.000000   14.454200   \n75%     668.500000   38.000000    1.000000    0.000000   31.000000   \nmax     891.000000   80.000000    8.000000    6.000000  512.329200   \n\n       Sex_female    Sex_male    Pclass_1    Pclass_2    Pclass_3  Embarked_C  \\\ncount  891.000000  891.000000  891.000000  891.000000  891.000000  891.000000   \nmean     0.352413    0.647587    0.242424    0.206510    0.551066    0.188552   \nstd      0.477990    0.477990    0.428790    0.405028    0.497665    0.391372   \nmin      0.000000    0.000000    0.000000    0.000000    0.000000    0.000000   \n25%      0.000000    0.000000    0.000000    0.000000    0.000000    0.000000   \n50%      0.000000    1.000000    0.000000    0.000000    1.000000    0.000000   \n75%      1.000000    1.000000    0.000000    0.000000    1.000000    0.000000   \nmax      1.000000    1.000000    1.000000    1.000000    1.000000    1.000000   \n\n       Embarked_Q  Embarked_S  Survived_0  Survived_1  \ncount  891.000000  891.000000  891.000000  891.000000  \nmean     0.086420    0.725028    0.616162    0.383838  \nstd      0.281141    0.446751    0.486592    0.486592  \nmin      0.000000    0.000000    0.000000    0.000000  \n25%      0.000000    0.000000    0.000000    0.000000  \n50%      0.000000    1.000000    1.000000    0.000000  \n75%      0.000000    1.000000    1.000000    1.000000  \nmax      1.000000    1.000000    1.000000    1.000000  ",
      "text/html": "<div>\n<style scoped>\n    .dataframe tbody tr th:only-of-type {\n        vertical-align: middle;\n    }\n\n    .dataframe tbody tr th {\n        vertical-align: top;\n    }\n\n    .dataframe thead th {\n        text-align: right;\n    }\n</style>\n<table border=\"1\" class=\"dataframe\">\n  <thead>\n    <tr style=\"text-align: right;\">\n      <th></th>\n      <th>PassengerId</th>\n      <th>Age</th>\n      <th>SibSp</th>\n      <th>Parch</th>\n      <th>Fare</th>\n      <th>Sex_female</th>\n      <th>Sex_male</th>\n      <th>Pclass_1</th>\n      <th>Pclass_2</th>\n      <th>Pclass_3</th>\n      <th>Embarked_C</th>\n      <th>Embarked_Q</th>\n      <th>Embarked_S</th>\n      <th>Survived_0</th>\n      <th>Survived_1</th>\n    </tr>\n  </thead>\n  <tbody>\n    <tr>\n      <th>count</th>\n      <td>891.000000</td>\n      <td>891.000000</td>\n      <td>891.000000</td>\n      <td>891.000000</td>\n      <td>891.000000</td>\n      <td>891.000000</td>\n      <td>891.000000</td>\n      <td>891.000000</td>\n      <td>891.000000</td>\n      <td>891.000000</td>\n      <td>891.000000</td>\n      <td>891.000000</td>\n      <td>891.000000</td>\n      <td>891.000000</td>\n      <td>891.000000</td>\n    </tr>\n    <tr>\n      <th>mean</th>\n      <td>446.000000</td>\n      <td>29.544433</td>\n      <td>0.523008</td>\n      <td>0.381594</td>\n      <td>32.204208</td>\n      <td>0.352413</td>\n      <td>0.647587</td>\n      <td>0.242424</td>\n      <td>0.206510</td>\n      <td>0.551066</td>\n      <td>0.188552</td>\n      <td>0.086420</td>\n      <td>0.725028</td>\n      <td>0.616162</td>\n      <td>0.383838</td>\n    </tr>\n    <tr>\n      <th>std</th>\n      <td>257.353842</td>\n      <td>13.869483</td>\n      <td>1.102743</td>\n      <td>0.806057</td>\n      <td>49.693429</td>\n      <td>0.477990</td>\n      <td>0.477990</td>\n      <td>0.428790</td>\n      <td>0.405028</td>\n      <td>0.497665</td>\n      <td>0.391372</td>\n      <td>0.281141</td>\n      <td>0.446751</td>\n      <td>0.486592</td>\n      <td>0.486592</td>\n    </tr>\n    <tr>\n      <th>min</th>\n      <td>1.000000</td>\n      <td>0.420000</td>\n      <td>0.000000</td>\n      <td>0.000000</td>\n      <td>0.000000</td>\n      <td>0.000000</td>\n      <td>0.000000</td>\n      <td>0.000000</td>\n      <td>0.000000</td>\n      <td>0.000000</td>\n      <td>0.000000</td>\n      <td>0.000000</td>\n      <td>0.000000</td>\n      <td>0.000000</td>\n      <td>0.000000</td>\n    </tr>\n    <tr>\n      <th>25%</th>\n      <td>223.500000</td>\n      <td>20.750000</td>\n      <td>0.000000</td>\n      <td>0.000000</td>\n      <td>7.910400</td>\n      <td>0.000000</td>\n      <td>0.000000</td>\n      <td>0.000000</td>\n      <td>0.000000</td>\n      <td>0.000000</td>\n      <td>0.000000</td>\n      <td>0.000000</td>\n      <td>0.000000</td>\n      <td>0.000000</td>\n      <td>0.000000</td>\n    </tr>\n    <tr>\n      <th>50%</th>\n      <td>446.000000</td>\n      <td>28.000000</td>\n      <td>0.000000</td>\n      <td>0.000000</td>\n      <td>14.454200</td>\n      <td>0.000000</td>\n      <td>1.000000</td>\n      <td>0.000000</td>\n      <td>0.000000</td>\n      <td>1.000000</td>\n      <td>0.000000</td>\n      <td>0.000000</td>\n      <td>1.000000</td>\n      <td>1.000000</td>\n      <td>0.000000</td>\n    </tr>\n    <tr>\n      <th>75%</th>\n      <td>668.500000</td>\n      <td>38.000000</td>\n      <td>1.000000</td>\n      <td>0.000000</td>\n      <td>31.000000</td>\n      <td>1.000000</td>\n      <td>1.000000</td>\n      <td>0.000000</td>\n      <td>0.000000</td>\n      <td>1.000000</td>\n      <td>0.000000</td>\n      <td>0.000000</td>\n      <td>1.000000</td>\n      <td>1.000000</td>\n      <td>1.000000</td>\n    </tr>\n    <tr>\n      <th>max</th>\n      <td>891.000000</td>\n      <td>80.000000</td>\n      <td>8.000000</td>\n      <td>6.000000</td>\n      <td>512.329200</td>\n      <td>1.000000</td>\n      <td>1.000000</td>\n      <td>1.000000</td>\n      <td>1.000000</td>\n      <td>1.000000</td>\n      <td>1.000000</td>\n      <td>1.000000</td>\n      <td>1.000000</td>\n      <td>1.000000</td>\n      <td>1.000000</td>\n    </tr>\n  </tbody>\n</table>\n</div>"
     },
     "execution_count": 56,
     "metadata": {},
     "output_type": "execute_result"
    }
   ],
   "source": [
    "titanic.df_train.describe()"
   ],
   "metadata": {
    "collapsed": false,
    "ExecuteTime": {
     "end_time": "2023-07-20T13:56:39.258546800Z",
     "start_time": "2023-07-20T13:56:39.202020600Z"
    }
   }
  }
 ],
 "metadata": {
  "kernelspec": {
   "display_name": "d2l",
   "language": "python",
   "name": "python3"
  },
  "language_info": {
   "codemirror_mode": {
    "name": "ipython",
    "version": 3
   },
   "file_extension": ".py",
   "mimetype": "text/x-python",
   "name": "python",
   "nbconvert_exporter": "python",
   "pygments_lexer": "ipython3",
   "version": "3.9.17"
  },
  "orig_nbformat": 4
 },
 "nbformat": 4,
 "nbformat_minor": 2
}
