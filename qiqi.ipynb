{
 "cells": [
  {
   "cell_type": "code",
   "execution_count": 1,
   "metadata": {
    "ExecuteTime": {
     "end_time": "2023-07-21T13:10:13.776884500Z",
     "start_time": "2023-07-21T13:10:13.769353400Z"
    }
   },
   "outputs": [],
   "source": [
    "import pandas as pd\n",
    "import numpy as np\n",
    "import sklearn\n",
    "import torch\n",
    "import random\n",
    "from torch import nn\n",
    "from torch.utils.data import Dataset, DataLoader\n",
    "from sklearn.preprocessing import StandardScaler\n",
    "from sklearn.ensemble import RandomForestRegressor\n",
    "from matplotlib import pyplot as plt\n",
    "from tqdm import tqdm"
   ]
  },
  {
   "cell_type": "code",
   "execution_count": 3,
   "metadata": {
    "ExecuteTime": {
     "end_time": "2023-07-21T13:10:13.852826300Z",
     "start_time": "2023-07-21T13:10:13.781878500Z"
    },
    "collapsed": false
   },
   "outputs": [],
   "source": [
    "# 使用随机森林拟合缺失数据\n",
    "def set_missing_ages(df):\n",
    "\n",
    "    # 把已有的数值型特征取出来丢进RandomForgestRegressor\n",
    "    age_df = df[['Age','Fare','Parch','SibSp','Pclass']]\n",
    "    known_age = age_df[age_df.Age.notnull()].values\n",
    "    unknown_age = age_df[age_df.Age.isnull()].values\n",
    "\n",
    "    y = known_age[:,0]\n",
    "    x = known_age[:,1:]\n",
    "\n",
    "    rfr = RandomForestRegressor(random_state=0, n_estimators=2000, n_jobs=-1)\n",
    "    rfr.fit(x, y)\n",
    "\n",
    "    # 用得到的模型来进行未知年龄结果预测\n",
    "    predictedAges = rfr.predict(unknown_age[:,1::])\n",
    "    df.loc[(df.Age.isnull()),'Age'] = predictedAges\n",
    "\n",
    "    return df"
   ]
  },
  {
   "cell_type": "code",
   "execution_count": 5,
   "metadata": {
    "ExecuteTime": {
     "end_time": "2023-07-21T13:10:20.585262800Z",
     "start_time": "2023-07-21T13:10:13.794142800Z"
    }
   },
   "outputs": [
    {
     "data": {
      "text/html": [
       "<div>\n",
       "<style scoped>\n",
       "    .dataframe tbody tr th:only-of-type {\n",
       "        vertical-align: middle;\n",
       "    }\n",
       "\n",
       "    .dataframe tbody tr th {\n",
       "        vertical-align: top;\n",
       "    }\n",
       "\n",
       "    .dataframe thead th {\n",
       "        text-align: right;\n",
       "    }\n",
       "</style>\n",
       "<table border=\"1\" class=\"dataframe\">\n",
       "  <thead>\n",
       "    <tr style=\"text-align: right;\">\n",
       "      <th></th>\n",
       "      <th>Age</th>\n",
       "      <th>Sex_female</th>\n",
       "      <th>Sex_male</th>\n",
       "      <th>Pclass_1</th>\n",
       "      <th>Pclass_2</th>\n",
       "      <th>Pclass_3</th>\n",
       "      <th>Embarked_C</th>\n",
       "      <th>Embarked_Q</th>\n",
       "      <th>Embarked_S</th>\n",
       "      <th>SibSp_cut_0</th>\n",
       "      <th>SibSp_cut_1</th>\n",
       "      <th>SibSp_cut_2</th>\n",
       "      <th>Parch_cut_0</th>\n",
       "      <th>Parch_cut_1</th>\n",
       "      <th>Parch_cut_2</th>\n",
       "      <th>Fare_cut_0</th>\n",
       "      <th>Fare_cut_1</th>\n",
       "      <th>Fare_cut_2</th>\n",
       "    </tr>\n",
       "  </thead>\n",
       "  <tbody>\n",
       "    <tr>\n",
       "      <th>0</th>\n",
       "      <td>-0.572541</td>\n",
       "      <td>0.0</td>\n",
       "      <td>1.0</td>\n",
       "      <td>0.0</td>\n",
       "      <td>0.0</td>\n",
       "      <td>1.0</td>\n",
       "      <td>0.0</td>\n",
       "      <td>0.0</td>\n",
       "      <td>1.0</td>\n",
       "      <td>0.0</td>\n",
       "      <td>1.0</td>\n",
       "      <td>0.0</td>\n",
       "      <td>1.0</td>\n",
       "      <td>0.0</td>\n",
       "      <td>0.0</td>\n",
       "      <td>1.0</td>\n",
       "      <td>0.0</td>\n",
       "      <td>0.0</td>\n",
       "    </tr>\n",
       "    <tr>\n",
       "      <th>1</th>\n",
       "      <td>0.619921</td>\n",
       "      <td>1.0</td>\n",
       "      <td>0.0</td>\n",
       "      <td>1.0</td>\n",
       "      <td>0.0</td>\n",
       "      <td>0.0</td>\n",
       "      <td>1.0</td>\n",
       "      <td>0.0</td>\n",
       "      <td>0.0</td>\n",
       "      <td>0.0</td>\n",
       "      <td>1.0</td>\n",
       "      <td>0.0</td>\n",
       "      <td>1.0</td>\n",
       "      <td>0.0</td>\n",
       "      <td>0.0</td>\n",
       "      <td>0.0</td>\n",
       "      <td>0.0</td>\n",
       "      <td>1.0</td>\n",
       "    </tr>\n",
       "    <tr>\n",
       "      <th>2</th>\n",
       "      <td>-0.274426</td>\n",
       "      <td>1.0</td>\n",
       "      <td>0.0</td>\n",
       "      <td>0.0</td>\n",
       "      <td>0.0</td>\n",
       "      <td>1.0</td>\n",
       "      <td>0.0</td>\n",
       "      <td>0.0</td>\n",
       "      <td>1.0</td>\n",
       "      <td>1.0</td>\n",
       "      <td>0.0</td>\n",
       "      <td>0.0</td>\n",
       "      <td>1.0</td>\n",
       "      <td>0.0</td>\n",
       "      <td>0.0</td>\n",
       "      <td>1.0</td>\n",
       "      <td>0.0</td>\n",
       "      <td>0.0</td>\n",
       "    </tr>\n",
       "    <tr>\n",
       "      <th>3</th>\n",
       "      <td>0.396334</td>\n",
       "      <td>1.0</td>\n",
       "      <td>0.0</td>\n",
       "      <td>1.0</td>\n",
       "      <td>0.0</td>\n",
       "      <td>0.0</td>\n",
       "      <td>0.0</td>\n",
       "      <td>0.0</td>\n",
       "      <td>1.0</td>\n",
       "      <td>0.0</td>\n",
       "      <td>1.0</td>\n",
       "      <td>0.0</td>\n",
       "      <td>1.0</td>\n",
       "      <td>0.0</td>\n",
       "      <td>0.0</td>\n",
       "      <td>0.0</td>\n",
       "      <td>0.0</td>\n",
       "      <td>1.0</td>\n",
       "    </tr>\n",
       "    <tr>\n",
       "      <th>4</th>\n",
       "      <td>0.396334</td>\n",
       "      <td>0.0</td>\n",
       "      <td>1.0</td>\n",
       "      <td>0.0</td>\n",
       "      <td>0.0</td>\n",
       "      <td>1.0</td>\n",
       "      <td>0.0</td>\n",
       "      <td>0.0</td>\n",
       "      <td>1.0</td>\n",
       "      <td>1.0</td>\n",
       "      <td>0.0</td>\n",
       "      <td>0.0</td>\n",
       "      <td>1.0</td>\n",
       "      <td>0.0</td>\n",
       "      <td>0.0</td>\n",
       "      <td>1.0</td>\n",
       "      <td>0.0</td>\n",
       "      <td>0.0</td>\n",
       "    </tr>\n",
       "    <tr>\n",
       "      <th>...</th>\n",
       "      <td>...</td>\n",
       "      <td>...</td>\n",
       "      <td>...</td>\n",
       "      <td>...</td>\n",
       "      <td>...</td>\n",
       "      <td>...</td>\n",
       "      <td>...</td>\n",
       "      <td>...</td>\n",
       "      <td>...</td>\n",
       "      <td>...</td>\n",
       "      <td>...</td>\n",
       "      <td>...</td>\n",
       "      <td>...</td>\n",
       "      <td>...</td>\n",
       "      <td>...</td>\n",
       "      <td>...</td>\n",
       "      <td>...</td>\n",
       "      <td>...</td>\n",
       "    </tr>\n",
       "    <tr>\n",
       "      <th>886</th>\n",
       "      <td>-0.199897</td>\n",
       "      <td>0.0</td>\n",
       "      <td>1.0</td>\n",
       "      <td>0.0</td>\n",
       "      <td>1.0</td>\n",
       "      <td>0.0</td>\n",
       "      <td>0.0</td>\n",
       "      <td>0.0</td>\n",
       "      <td>1.0</td>\n",
       "      <td>1.0</td>\n",
       "      <td>0.0</td>\n",
       "      <td>0.0</td>\n",
       "      <td>1.0</td>\n",
       "      <td>0.0</td>\n",
       "      <td>0.0</td>\n",
       "      <td>0.0</td>\n",
       "      <td>1.0</td>\n",
       "      <td>0.0</td>\n",
       "    </tr>\n",
       "    <tr>\n",
       "      <th>887</th>\n",
       "      <td>-0.796128</td>\n",
       "      <td>1.0</td>\n",
       "      <td>0.0</td>\n",
       "      <td>1.0</td>\n",
       "      <td>0.0</td>\n",
       "      <td>0.0</td>\n",
       "      <td>0.0</td>\n",
       "      <td>0.0</td>\n",
       "      <td>1.0</td>\n",
       "      <td>1.0</td>\n",
       "      <td>0.0</td>\n",
       "      <td>0.0</td>\n",
       "      <td>1.0</td>\n",
       "      <td>0.0</td>\n",
       "      <td>0.0</td>\n",
       "      <td>0.0</td>\n",
       "      <td>1.0</td>\n",
       "      <td>0.0</td>\n",
       "    </tr>\n",
       "    <tr>\n",
       "      <th>888</th>\n",
       "      <td>-1.012218</td>\n",
       "      <td>1.0</td>\n",
       "      <td>0.0</td>\n",
       "      <td>0.0</td>\n",
       "      <td>0.0</td>\n",
       "      <td>1.0</td>\n",
       "      <td>0.0</td>\n",
       "      <td>0.0</td>\n",
       "      <td>1.0</td>\n",
       "      <td>0.0</td>\n",
       "      <td>1.0</td>\n",
       "      <td>0.0</td>\n",
       "      <td>0.0</td>\n",
       "      <td>1.0</td>\n",
       "      <td>0.0</td>\n",
       "      <td>0.0</td>\n",
       "      <td>1.0</td>\n",
       "      <td>0.0</td>\n",
       "    </tr>\n",
       "    <tr>\n",
       "      <th>889</th>\n",
       "      <td>-0.274426</td>\n",
       "      <td>0.0</td>\n",
       "      <td>1.0</td>\n",
       "      <td>1.0</td>\n",
       "      <td>0.0</td>\n",
       "      <td>0.0</td>\n",
       "      <td>1.0</td>\n",
       "      <td>0.0</td>\n",
       "      <td>0.0</td>\n",
       "      <td>1.0</td>\n",
       "      <td>0.0</td>\n",
       "      <td>0.0</td>\n",
       "      <td>1.0</td>\n",
       "      <td>0.0</td>\n",
       "      <td>0.0</td>\n",
       "      <td>0.0</td>\n",
       "      <td>1.0</td>\n",
       "      <td>0.0</td>\n",
       "    </tr>\n",
       "    <tr>\n",
       "      <th>890</th>\n",
       "      <td>0.172748</td>\n",
       "      <td>0.0</td>\n",
       "      <td>1.0</td>\n",
       "      <td>0.0</td>\n",
       "      <td>0.0</td>\n",
       "      <td>1.0</td>\n",
       "      <td>0.0</td>\n",
       "      <td>1.0</td>\n",
       "      <td>0.0</td>\n",
       "      <td>1.0</td>\n",
       "      <td>0.0</td>\n",
       "      <td>0.0</td>\n",
       "      <td>1.0</td>\n",
       "      <td>0.0</td>\n",
       "      <td>0.0</td>\n",
       "      <td>1.0</td>\n",
       "      <td>0.0</td>\n",
       "      <td>0.0</td>\n",
       "    </tr>\n",
       "  </tbody>\n",
       "</table>\n",
       "<p>891 rows × 18 columns</p>\n",
       "</div>"
      ],
      "text/plain": [
       "          Age  Sex_female  Sex_male  Pclass_1  Pclass_2  Pclass_3  Embarked_C  \\\n",
       "0   -0.572541         0.0       1.0       0.0       0.0       1.0         0.0   \n",
       "1    0.619921         1.0       0.0       1.0       0.0       0.0         1.0   \n",
       "2   -0.274426         1.0       0.0       0.0       0.0       1.0         0.0   \n",
       "3    0.396334         1.0       0.0       1.0       0.0       0.0         0.0   \n",
       "4    0.396334         0.0       1.0       0.0       0.0       1.0         0.0   \n",
       "..        ...         ...       ...       ...       ...       ...         ...   \n",
       "886 -0.199897         0.0       1.0       0.0       1.0       0.0         0.0   \n",
       "887 -0.796128         1.0       0.0       1.0       0.0       0.0         0.0   \n",
       "888 -1.012218         1.0       0.0       0.0       0.0       1.0         0.0   \n",
       "889 -0.274426         0.0       1.0       1.0       0.0       0.0         1.0   \n",
       "890  0.172748         0.0       1.0       0.0       0.0       1.0         0.0   \n",
       "\n",
       "     Embarked_Q  Embarked_S  SibSp_cut_0  SibSp_cut_1  SibSp_cut_2  \\\n",
       "0           0.0         1.0          0.0          1.0          0.0   \n",
       "1           0.0         0.0          0.0          1.0          0.0   \n",
       "2           0.0         1.0          1.0          0.0          0.0   \n",
       "3           0.0         1.0          0.0          1.0          0.0   \n",
       "4           0.0         1.0          1.0          0.0          0.0   \n",
       "..          ...         ...          ...          ...          ...   \n",
       "886         0.0         1.0          1.0          0.0          0.0   \n",
       "887         0.0         1.0          1.0          0.0          0.0   \n",
       "888         0.0         1.0          0.0          1.0          0.0   \n",
       "889         0.0         0.0          1.0          0.0          0.0   \n",
       "890         1.0         0.0          1.0          0.0          0.0   \n",
       "\n",
       "     Parch_cut_0  Parch_cut_1  Parch_cut_2  Fare_cut_0  Fare_cut_1  Fare_cut_2  \n",
       "0            1.0          0.0          0.0         1.0         0.0         0.0  \n",
       "1            1.0          0.0          0.0         0.0         0.0         1.0  \n",
       "2            1.0          0.0          0.0         1.0         0.0         0.0  \n",
       "3            1.0          0.0          0.0         0.0         0.0         1.0  \n",
       "4            1.0          0.0          0.0         1.0         0.0         0.0  \n",
       "..           ...          ...          ...         ...         ...         ...  \n",
       "886          1.0          0.0          0.0         0.0         1.0         0.0  \n",
       "887          1.0          0.0          0.0         0.0         1.0         0.0  \n",
       "888          0.0          1.0          0.0         0.0         1.0         0.0  \n",
       "889          1.0          0.0          0.0         0.0         1.0         0.0  \n",
       "890          1.0          0.0          0.0         1.0         0.0         0.0  \n",
       "\n",
       "[891 rows x 18 columns]"
      ]
     },
     "execution_count": 5,
     "metadata": {},
     "output_type": "execute_result"
    }
   ],
   "source": [
    "class TitanicData(Dataset):\n",
    "    def __init__(self, shuffle=False, train_path='./train.csv', test_path='./test.csv', sub_path='./gender_submission.csv'):\n",
    "        # 读文件\n",
    "        self.df_train = pd.read_csv(train_path, encoding='utf8')\n",
    "        self.df_test = pd.read_csv(test_path, encoding='utf8')\n",
    "        self.df_sub = pd.read_csv(sub_path, encoding='utf8')\n",
    "        # 将正确解融入，方便数据预处理以及计算准确率\n",
    "        self.df_test = pd.concat([self.df_test, self.df_sub['Survived']], axis=1)\n",
    "        # 数据预处理（特征选择，编码）\n",
    "        self.df_train = self.process_df(self.df_train)\n",
    "        self.df_test = self.process_df(self.df_test)\n",
    "        # shuffle\n",
    "        # if shuffle:\n",
    "        #     # random.shuffle(self.df_train)\n",
    "        #     self.df_train = self.df_train.sample(n=len(self.df_train))\n",
    "        # 连接训练集与测试集（用来标准化）\n",
    "        self.all_x = pd.concat([self.df_train.iloc[:, 1:-2], self.df_test.iloc[:, 1:-2]], axis=0)\n",
    "        self.all_y = pd.concat([self.df_train.iloc[:, -2:], self.df_test.iloc[:, -2:]], axis=0)\n",
    "        # 重置index（因为concat了）\n",
    "        self.all_x.index = range(len(self.all_x))\n",
    "        self.all_y.index = range(len(self.all_y))\n",
    "        # 转化为numpy格式，提高运算性能\n",
    "        self.all_x = self.all_x.values\n",
    "        self.all_y = self.all_y.values\n",
    "        \n",
    "        # 标准化\n",
    "        std_all = StandardScaler().fit_transform(self.all_x)\n",
    "        self.all_x[:, 0] = std_all[:, 0]\n",
    "        # self.all_x[:, 3] = std_all[:, 3]\n",
    "\n",
    "    def process_df(self, df):\n",
    "        # 按票号排序，使数据按空间聚集\n",
    "        df.sort_values(by=['Ticket'], ascending=[True], inplace=True)\n",
    "        # 丢弃对结果无影响的数据\n",
    "        df.drop(columns=['Name', 'Ticket', 'Cabin'], inplace=True)\n",
    "        # 对缺失项进行插值\n",
    "        df['Fare'].interpolate(inplace=True)\n",
    "        df = set_missing_ages(df)\n",
    "        df['Embarked'].fillna(value='S', inplace=True)\n",
    "        # 恢复顺序\n",
    "        df.sort_values(by=['PassengerId'], ascending=[True], inplace=True)\n",
    "        \n",
    "        # 对于SibSp属性，我们划分成0,1~2，3~8三个等级\n",
    "        df['SibSp_cut'] = 1\n",
    "        df.loc[df['SibSp'] == 0, 'SibSp_cut'] = 0\n",
    "        df.loc[df['SibSp'] >= 3, 'SibSp_cut'] = 2\n",
    "        \n",
    "        # 对于Parch属性，我们划分成0,1~3，4~6三个等级\n",
    "        df['Parch_cut'] = 1\n",
    "        df.loc[df['Parch'] == 0, 'Parch_cut'] = 0\n",
    "        df.loc[df['Parch'] > 3, 'Parch_cut'] = 2\n",
    "        \n",
    "        # 对于Fare属性，我们划分成0~11,11~50，50~600三个等级\n",
    "        df['Fare_cut'] = 1\n",
    "        df.loc[df['Fare'] < 11, 'Fare_cut'] = 0\n",
    "        df.loc[df['Fare'] > 50, 'Fare_cut'] = 2\n",
    "        # 独热编码\n",
    "        df = pd.get_dummies(data=df, columns=['Sex', 'Pclass', 'Embarked', 'SibSp_cut', 'Parch_cut', 'Fare_cut', 'Survived'])\n",
    "        df.drop(['SibSp', 'Parch', 'Fare'], axis=1, inplace=True)\n",
    "        \n",
    "        # df = pd.get_dummies(data=df, columns=['Sex', 'Pclass', 'Embarked', 'Survived'])\n",
    "        return df\n",
    "\n",
    "    def get_x(self, idx: int):\n",
    "        return torch.Tensor(self.all_x[idx])\n",
    "\n",
    "    def get_y(self, idx: int):\n",
    "        return torch.Tensor(self.all_y[idx])\n",
    "\n",
    "    def __getitem__(self, idx):\n",
    "        return self.get_x(idx), self.get_y(idx)\n",
    "\n",
    "    def __len__(self):\n",
    "        # 仅使用训练集进行训练\n",
    "        return len(self.df_train)\n",
    "        # return 800\n",
    "\n",
    "\n",
    "titanic = TitanicData()\n",
    "# 使预处理后的特征便于观察\n",
    "vivid = pd.DataFrame(titanic.all_x[:len(titanic), :], columns=titanic.df_train.iloc[:, 1:-2].columns)\n",
    "vivid"
   ]
  },
  {
   "cell_type": "code",
   "execution_count": 6,
   "metadata": {
    "ExecuteTime": {
     "end_time": "2023-07-21T13:10:20.601684700Z",
     "start_time": "2023-07-21T13:10:20.588281700Z"
    }
   },
   "outputs": [
    {
     "name": "stdout",
     "output_type": "stream",
     "text": [
      "<class 'pandas.core.frame.DataFrame'>\n",
      "RangeIndex: 891 entries, 0 to 890\n",
      "Data columns (total 18 columns):\n",
      " #   Column       Non-Null Count  Dtype  \n",
      "---  ------       --------------  -----  \n",
      " 0   Age          891 non-null    float64\n",
      " 1   Sex_female   891 non-null    float64\n",
      " 2   Sex_male     891 non-null    float64\n",
      " 3   Pclass_1     891 non-null    float64\n",
      " 4   Pclass_2     891 non-null    float64\n",
      " 5   Pclass_3     891 non-null    float64\n",
      " 6   Embarked_C   891 non-null    float64\n",
      " 7   Embarked_Q   891 non-null    float64\n",
      " 8   Embarked_S   891 non-null    float64\n",
      " 9   SibSp_cut_0  891 non-null    float64\n",
      " 10  SibSp_cut_1  891 non-null    float64\n",
      " 11  SibSp_cut_2  891 non-null    float64\n",
      " 12  Parch_cut_0  891 non-null    float64\n",
      " 13  Parch_cut_1  891 non-null    float64\n",
      " 14  Parch_cut_2  891 non-null    float64\n",
      " 15  Fare_cut_0   891 non-null    float64\n",
      " 16  Fare_cut_1   891 non-null    float64\n",
      " 17  Fare_cut_2   891 non-null    float64\n",
      "dtypes: float64(18)\n",
      "memory usage: 125.4 KB\n"
     ]
    }
   ],
   "source": [
    "vivid.info()"
   ]
  },
  {
   "cell_type": "code",
   "execution_count": 7,
   "metadata": {
    "ExecuteTime": {
     "end_time": "2023-07-21T13:10:20.662049300Z",
     "start_time": "2023-07-21T13:10:20.603772200Z"
    }
   },
   "outputs": [
    {
     "data": {
      "text/plain": [
       "(tensor([0.2100, 1.0000, 0.0000, 0.0000, 1.0000, 0.0000, 0.0000, 0.0000, 1.0000,\n",
       "         1.0000, 0.0000, 0.0000, 1.0000, 0.0000, 0.0000, 0.0000, 1.0000, 0.0000]),\n",
       " tensor([0., 1.]))"
      ]
     },
     "execution_count": 7,
     "metadata": {},
     "output_type": "execute_result"
    }
   ],
   "source": [
    "x, y = titanic[123]\n",
    "x, y"
   ]
  },
  {
   "cell_type": "code",
   "execution_count": 8,
   "metadata": {
    "ExecuteTime": {
     "end_time": "2023-07-21T13:10:20.693625500Z",
     "start_time": "2023-07-21T13:10:20.620802600Z"
    }
   },
   "outputs": [],
   "source": [
    "def init_weights(m):\n",
    "    if type(m) == nn.Linear:\n",
    "        nn.init.normal_(m.weight, std=0.01)\n",
    "\n",
    "def train(net, loader, opt, loss):\n",
    "    net.train()\n",
    "    for X, y in loader:\n",
    "        pred = net(X)\n",
    "        l = loss(pred, y)\n",
    "        opt.zero_grad()\n",
    "        l.backward()\n",
    "        opt.step()\n",
    "        \n",
    "    return l.item()"
   ]
  },
  {
   "cell_type": "code",
   "execution_count": 9,
   "metadata": {
    "ExecuteTime": {
     "end_time": "2023-07-21T13:10:20.694626100Z",
     "start_time": "2023-07-21T13:10:20.636182Z"
    }
   },
   "outputs": [],
   "source": [
    "def parse_output(output):\n",
    "    x0 = output[0].item()\n",
    "    x1 = output[1].item()\n",
    "    if x0 > x1:\n",
    "        # return np.array([1, 0])\n",
    "        return 0\n",
    "    else:\n",
    "        # return np.array([0, 1])\n",
    "        return 1"
   ]
  },
  {
   "cell_type": "code",
   "execution_count": 10,
   "metadata": {
    "ExecuteTime": {
     "end_time": "2023-07-21T13:10:20.694626100Z",
     "start_time": "2023-07-21T13:10:20.650874700Z"
    }
   },
   "outputs": [],
   "source": [
    "model = nn.Sequential(\n",
    "    nn.Linear(18, 8),\n",
    "    nn.SiLU(),\n",
    "    # nn.Dropout(p=0.5),\n",
    "    nn.Linear(8, 4),\n",
    "    nn.SiLU(),\n",
    "    nn.Linear(4, 2),\n",
    "    nn.Sigmoid(),\n",
    "    nn.Linear(2, 2),\n",
    "    # nn.Sigmoid(),\n",
    "    nn.Softmax(dim=0)\n",
    "    )\n",
    "\n",
    "model.apply(init_weights)\n",
    "# loss = nn.CrossEntropyLoss()\n",
    "loss = nn.MSELoss()\n",
    "opt = torch.optim.Adam(model.parameters(), lr=0.005)\n",
    "# opt = torch.optim.SGD(model.parameters(), lr=0.1)\n",
    "loader = DataLoader(titanic, batch_size=32, shuffle=True)\n",
    "\n",
    "all_epoch = 0\n",
    "curve_list = []"
   ]
  },
  {
   "cell_type": "code",
   "execution_count": 15,
   "metadata": {
    "ExecuteTime": {
     "end_time": "2023-07-21T13:12:14.021665300Z",
     "start_time": "2023-07-21T13:10:20.669906Z"
    }
   },
   "outputs": [
    {
     "name": "stderr",
     "output_type": "stream",
     "text": [
      "loss = 0.42956: 100%|██████████| 100/100 [00:56<00:00,  1.78it/s]\n"
     ]
    }
   ],
   "source": [
    "looper = tqdm(range(100))\n",
    "for i in looper:\n",
    "    num_epoch = 10 # 每轮循环，训练十次\n",
    "    for epoch in range(num_epoch):\n",
    "        l = train(model, loader, opt, loss)\n",
    "        # looper.set_description(f'loss = {round(l, 5)}')\n",
    "\n",
    "    # 上面是训练模型，下面是统计信息，用于画图\n",
    "    looper.set_description(f'loss = {round(l, 5)}')\n",
    "    all_epoch += num_epoch\n",
    "\n",
    "    true_cnt, false_cnt = 0, 0\n",
    "    for idx in range(0, 891):\n",
    "        pred = model(titanic[idx][0])\n",
    "        real = titanic[idx][1]\n",
    "        if parse_output(pred) == parse_output(real):\n",
    "            true_cnt += 1\n",
    "        else:\n",
    "            false_cnt += 1\n",
    "\n",
    "    curve_list.append((all_epoch, true_cnt/(true_cnt+false_cnt), l))\n",
    "    # curve_list[-1]"
   ]
  },
  {
   "cell_type": "code",
   "execution_count": 16,
   "metadata": {
    "ExecuteTime": {
     "end_time": "2023-07-21T13:12:14.160799400Z",
     "start_time": "2023-07-21T13:12:14.024245500Z"
    }
   },
   "outputs": [
    {
     "data": {
      "text/plain": [
       "[<matplotlib.lines.Line2D at 0x27e1a5b3520>]"
      ]
     },
     "execution_count": 16,
     "metadata": {},
     "output_type": "execute_result"
    },
    {
     "data": {
      "image/png": "[encoded data removed]",
      "text/plain": [
       "<Figure size 640x480 with 1 Axes>"
      ]
     },
     "metadata": {},
     "output_type": "display_data"
    }
   ],
   "source": [
    "# plt.plot([i[0] for i in curve_list], [i[1] for i in curve_list], '--')\n",
    "# 损失函数\n",
    "plt.plot([i[0] for i in curve_list], [i[2] for i in curve_list], '--')"
   ]
  },
  {
   "cell_type": "code",
   "execution_count": 17,
   "metadata": {
    "ExecuteTime": {
     "end_time": "2023-07-21T13:12:14.285031800Z",
     "start_time": "2023-07-21T13:12:14.162884700Z"
    }
   },
   "outputs": [
    {
     "data": {
      "text/plain": [
       "[<matplotlib.lines.Line2D at 0x27e1a61c3d0>]"
      ]
     },
     "execution_count": 17,
     "metadata": {},
     "output_type": "execute_result"
    },
    {
     "data": {
      "image/png": "[encoded data removed]",
      "text/plain": [
       "<Figure size 640x480 with 1 Axes>"
      ]
     },
     "metadata": {},
     "output_type": "display_data"
    }
   ],
   "source": [
    "# 训练集上的正确率\n",
    "plt.plot([i[0] for i in curve_list], [i[1] for i in curve_list], '--')"
   ]
  },
  {
   "cell_type": "code",
   "execution_count": 18,
   "metadata": {
    "ExecuteTime": {
     "end_time": "2023-07-21T13:12:14.303182100Z",
     "start_time": "2023-07-21T13:12:14.289631400Z"
    }
   },
   "outputs": [
    {
     "data": {
      "text/plain": [
       "(17, 0.8496071829405163)"
      ]
     },
     "execution_count": 18,
     "metadata": {},
     "output_type": "execute_result"
    }
   ],
   "source": [
    "record = np.array([i[1] for i in curve_list])\n",
    "record.argmax(), record.max()"
   ]
  },
  {
   "cell_type": "code",
   "execution_count": 19,
   "metadata": {
    "ExecuteTime": {
     "end_time": "2023-07-21T13:12:14.408048800Z",
     "start_time": "2023-07-21T13:12:14.306307800Z"
    }
   },
   "outputs": [
    {
     "data": {
      "text/plain": [
       "(340, 78, 0.8133971291866029)"
      ]
     },
     "execution_count": 19,
     "metadata": {},
     "output_type": "execute_result"
    }
   ],
   "source": [
    "true_cnt, false_cnt = 0, 0\n",
    "result = []\n",
    "for idx in range(891, 1309):\n",
    "    output = model(titanic[idx][0])\n",
    "    result.append((idx + 1, parse_output(output)))\n",
    "    if parse_output(output) == parse_output(titanic[idx][1]):\n",
    "        true_cnt += 1\n",
    "    else:\n",
    "        false_cnt += 1\n",
    "\n",
    "true_cnt, false_cnt, true_cnt/(true_cnt+false_cnt)"
   ]
  },
  {
   "cell_type": "code",
   "execution_count": 20,
   "metadata": {
    "ExecuteTime": {
     "end_time": "2023-07-21T13:12:14.421721300Z",
     "start_time": "2023-07-21T13:12:14.411572800Z"
    }
   },
   "outputs": [
    {
     "data": {
      "text/html": [
       "<div>\n",
       "<style scoped>\n",
       "    .dataframe tbody tr th:only-of-type {\n",
       "        vertical-align: middle;\n",
       "    }\n",
       "\n",
       "    .dataframe tbody tr th {\n",
       "        vertical-align: top;\n",
       "    }\n",
       "\n",
       "    .dataframe thead th {\n",
       "        text-align: right;\n",
       "    }\n",
       "</style>\n",
       "<table border=\"1\" class=\"dataframe\">\n",
       "  <thead>\n",
       "    <tr style=\"text-align: right;\">\n",
       "      <th></th>\n",
       "      <th>PassengerId</th>\n",
       "      <th>Survived</th>\n",
       "    </tr>\n",
       "  </thead>\n",
       "  <tbody>\n",
       "    <tr>\n",
       "      <th>0</th>\n",
       "      <td>892</td>\n",
       "      <td>0</td>\n",
       "    </tr>\n",
       "    <tr>\n",
       "      <th>1</th>\n",
       "      <td>893</td>\n",
       "      <td>0</td>\n",
       "    </tr>\n",
       "    <tr>\n",
       "      <th>2</th>\n",
       "      <td>894</td>\n",
       "      <td>0</td>\n",
       "    </tr>\n",
       "    <tr>\n",
       "      <th>3</th>\n",
       "      <td>895</td>\n",
       "      <td>0</td>\n",
       "    </tr>\n",
       "    <tr>\n",
       "      <th>4</th>\n",
       "      <td>896</td>\n",
       "      <td>0</td>\n",
       "    </tr>\n",
       "    <tr>\n",
       "      <th>...</th>\n",
       "      <td>...</td>\n",
       "      <td>...</td>\n",
       "    </tr>\n",
       "    <tr>\n",
       "      <th>413</th>\n",
       "      <td>1305</td>\n",
       "      <td>0</td>\n",
       "    </tr>\n",
       "    <tr>\n",
       "      <th>414</th>\n",
       "      <td>1306</td>\n",
       "      <td>1</td>\n",
       "    </tr>\n",
       "    <tr>\n",
       "      <th>415</th>\n",
       "      <td>1307</td>\n",
       "      <td>0</td>\n",
       "    </tr>\n",
       "    <tr>\n",
       "      <th>416</th>\n",
       "      <td>1308</td>\n",
       "      <td>0</td>\n",
       "    </tr>\n",
       "    <tr>\n",
       "      <th>417</th>\n",
       "      <td>1309</td>\n",
       "      <td>0</td>\n",
       "    </tr>\n",
       "  </tbody>\n",
       "</table>\n",
       "<p>418 rows × 2 columns</p>\n",
       "</div>"
      ],
      "text/plain": [
       "     PassengerId  Survived\n",
       "0            892         0\n",
       "1            893         0\n",
       "2            894         0\n",
       "3            895         0\n",
       "4            896         0\n",
       "..           ...       ...\n",
       "413         1305         0\n",
       "414         1306         1\n",
       "415         1307         0\n",
       "416         1308         0\n",
       "417         1309         0\n",
       "\n",
       "[418 rows x 2 columns]"
      ]
     },
     "execution_count": 20,
     "metadata": {},
     "output_type": "execute_result"
    }
   ],
   "source": [
    "res = pd.DataFrame(result, columns=['PassengerId', 'Survived'])\n",
    "res.to_csv(f'./DNN_Modified_{all_epoch}.csv', index=None)\n",
    "res"
   ]
  },
  {
   "cell_type": "code",
   "execution_count": 40,
   "metadata": {
    "ExecuteTime": {
     "end_time": "2023-07-21T13:12:14.451131400Z",
     "start_time": "2023-07-21T13:12:14.423808500Z"
    }
   },
   "outputs": [],
   "source": []
  }
 ],
 "metadata": {
  "kernelspec": {
   "display_name": "Python 3 (ipykernel)",
   "language": "python",
   "name": "python3"
  },
  "language_info": {
   "codemirror_mode": {
    "name": "ipython",
    "version": 3
   },
   "file_extension": ".py",
   "mimetype": "text/x-python",
   "name": "python",
   "nbconvert_exporter": "python",
   "pygments_lexer": "ipython3",
   "version": "3.9.17"
  }
 },
 "nbformat": 4,
 "nbformat_minor": 2
}
